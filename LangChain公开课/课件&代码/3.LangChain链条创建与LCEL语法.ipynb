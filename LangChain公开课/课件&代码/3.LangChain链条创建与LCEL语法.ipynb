{
 "cells": [
  {
   "cell_type": "markdown",
   "id": "3a287a25-dcbe-4cc3-aa5f-b4e366265555",
   "metadata": {},
   "source": [
    "部分项目成果演示"
   ]
  },
  {
   "cell_type": "code",
   "execution_count": 2,
   "id": "3d4fa21d-039d-4ca2-8a3b-32f5ac24701b",
   "metadata": {},
   "outputs": [],
   "source": [
    "from IPython.display import Video"
   ]
  },
  {
   "cell_type": "markdown",
   "id": "73fea23d-8356-4882-8748-01b13b8deba4",
   "metadata": {},
   "source": [
    "- **MateGen项目演示**"
   ]
  },
  {
   "cell_type": "code",
   "execution_count": 3,
   "id": "cdc76d11-77ad-4adc-bc12-7d2285f2d0d9",
   "metadata": {},
   "outputs": [
    {
     "data": {
      "text/html": [
       "<video src=\"https://ml2022.oss-cn-hangzhou.aliyuncs.com/4.MateGen%20Pro%20%E9%A1%B9%E7%9B%AE%E5%8A%9F%E8%83%BD%E6%BC%94%E7%A4%BA.mp4\" controls  width=\"800\"  height=\"400\">\n",
       "      Your browser does not support the <code>video</code> element.\n",
       "    </video>"
      ],
      "text/plain": [
       "<IPython.core.display.Video object>"
      ]
     },
     "execution_count": 3,
     "metadata": {},
     "output_type": "execute_result"
    }
   ],
   "source": [
    "Video(\"https://ml2022.oss-cn-hangzhou.aliyuncs.com/4.MateGen%20Pro%20%E9%A1%B9%E7%9B%AE%E5%8A%9F%E8%83%BD%E6%BC%94%E7%A4%BA.mp4\", width=800, height=400)"
   ]
  },
  {
   "cell_type": "markdown",
   "id": "c227a96d-112f-44db-aea3-16d2caa1de0d",
   "metadata": {},
   "source": [
    "- **智能客服项目演示**"
   ]
  },
  {
   "cell_type": "code",
   "execution_count": 4,
   "id": "5389ee86-bb3b-4630-acf9-ad2281907f2d",
   "metadata": {},
   "outputs": [
    {
     "data": {
      "text/html": [
       "<video src=\"https://ml2022.oss-cn-hangzhou.aliyuncs.com/%E6%99%BA%E8%83%BD%E5%AE%A2%E6%9C%8D%E6%A1%88%E4%BE%8B%E6%BC%94%E7%A4%BA.mp4\" controls  width=\"800\"  height=\"400\">\n",
       "      Your browser does not support the <code>video</code> element.\n",
       "    </video>"
      ],
      "text/plain": [
       "<IPython.core.display.Video object>"
      ]
     },
     "execution_count": 4,
     "metadata": {},
     "output_type": "execute_result"
    }
   ],
   "source": [
    "Video(\"https://ml2022.oss-cn-hangzhou.aliyuncs.com/%E6%99%BA%E8%83%BD%E5%AE%A2%E6%9C%8D%E6%A1%88%E4%BE%8B%E6%BC%94%E7%A4%BA.mp4\", width=800, height=400)"
   ]
  },
  {
   "cell_type": "markdown",
   "id": "9608561b-1f13-446e-87b8-7ef582502373",
   "metadata": {},
   "source": [
    "- **Dify项目演示**"
   ]
  },
  {
   "cell_type": "code",
   "execution_count": 6,
   "id": "a3304fdf-b3c8-450f-bf14-662d0436346c",
   "metadata": {},
   "outputs": [
    {
     "data": {
      "text/html": [
       "<video src=\"https://ml2022.oss-cn-hangzhou.aliyuncs.com/2f1b47f42c65fd59e8d3a83e6cb9f13b_raw.mp4\" controls  width=\"800\"  height=\"400\">\n",
       "      Your browser does not support the <code>video</code> element.\n",
       "    </video>"
      ],
      "text/plain": [
       "<IPython.core.display.Video object>"
      ]
     },
     "execution_count": 6,
     "metadata": {},
     "output_type": "execute_result"
    }
   ],
   "source": [
    "Video(\"https://ml2022.oss-cn-hangzhou.aliyuncs.com/2f1b47f42c65fd59e8d3a83e6cb9f13b_raw.mp4\", width=800, height=400)"
   ]
  },
  {
   "cell_type": "markdown",
   "id": "961a1c70-a3c5-440c-b95e-3c0426d834b6",
   "metadata": {},
   "source": [
    "- **LangChain&LangGraph搭建Multi-Agnet**"
   ]
  },
  {
   "cell_type": "code",
   "execution_count": 7,
   "id": "15842a50-77ac-434d-ac4a-222b8975f172",
   "metadata": {},
   "outputs": [
    {
     "data": {
      "text/html": [
       "<video src=\"https://ml2022.oss-cn-hangzhou.aliyuncs.com/%E5%8F%AF%E8%A7%86%E5%8C%96%E6%95%B0%E6%8D%AE%E5%88%86%E6%9E%90Multi-Agent%E6%95%88%E6%9E%9C%E6%BC%94%E7%A4%BA%E6%95%88%E6%9E%9C.mp4\" controls  width=\"800\"  height=\"400\">\n",
       "      Your browser does not support the <code>video</code> element.\n",
       "    </video>"
      ],
      "text/plain": [
       "<IPython.core.display.Video object>"
      ]
     },
     "execution_count": 7,
     "metadata": {},
     "output_type": "execute_result"
    }
   ],
   "source": [
    "Video(\"https://ml2022.oss-cn-hangzhou.aliyuncs.com/%E5%8F%AF%E8%A7%86%E5%8C%96%E6%95%B0%E6%8D%AE%E5%88%86%E6%9E%90Multi-Agent%E6%95%88%E6%9E%9C%E6%BC%94%E7%A4%BA%E6%95%88%E6%9E%9C.mp4\", width=800, height=400)"
   ]
  },
  {
   "cell_type": "markdown",
   "id": "ba546bc1-d86c-448a-bef4-f41b505fcd7a",
   "metadata": {},
   "source": [
    "---"
   ]
  },
  {
   "cell_type": "markdown",
   "id": "c687a1ea-1877-454d-8b8a-2ec2d06ac3ed",
   "metadata": {},
   "source": [
    "# <center> LangChain快速入门与Agent开发实战\n",
    "# <center> Part 3.LangChain链条创建与LCEL语法"
   ]
  },
  {
   "cell_type": "code",
   "id": "58447c42-4f63-4cd5-98f1-4a0d6b2119b1",
   "metadata": {
    "ExecuteTime": {
     "end_time": "2025-09-13T13:18:38.886344Z",
     "start_time": "2025-09-13T13:18:38.874613Z"
    }
   },
   "source": [
    "import os\n",
    "from dotenv import load_dotenv \n",
    "load_dotenv(override=True)"
   ],
   "outputs": [
    {
     "data": {
      "text/plain": [
       "True"
      ]
     },
     "execution_count": 1,
     "metadata": {},
     "output_type": "execute_result"
    }
   ],
   "execution_count": 1
  },
  {
   "cell_type": "markdown",
   "id": "bd874dab-a9a6-4d5a-bd07-3800dd971fb0",
   "metadata": {},
   "source": [
    "### 1. LangChian核心功能：链式调用实现方法"
   ]
  },
  {
   "cell_type": "markdown",
   "id": "080e640d-dc6a-402f-8fac-39e1eebd9bd8",
   "metadata": {},
   "source": [
    "&emsp;&emsp;顾名思义，`LangChain`之所以被称为`LangChain`，其核心概念就是`Chain`。 `Chain`翻译成中文就是“链”。一个链，指的是可以按照某一种逻辑，按顺序组合成一个流水线的方式。比如我们刚刚实现的问答流程： 用户输入一个问题 --> 发送给大模型 --> 大模型进行推理 --> 将推理结果返回给用户。这个流程就是一个链。"
   ]
  },
  {
   "cell_type": "markdown",
   "id": "ef2611de-6ddb-40db-8977-7ebc76211271",
   "metadata": {},
   "source": [
    "- 尝试搭建一个简单的链"
   ]
  },
  {
   "cell_type": "markdown",
   "id": "6ad2fc49-fa1b-4dc3-a814-16f39c9c78aa",
   "metadata": {},
   "source": [
    "&emsp;&emsp;例如，我们这里可以先尝试着搭建一个简单的链，将模型输出结果“过滤”为一个纯字符串格式："
   ]
  },
  {
   "cell_type": "code",
   "id": "1c010d36-ebc0-41d8-a56c-ef8da9e8e6ab",
   "metadata": {
    "ExecuteTime": {
     "end_time": "2025-09-13T13:20:04.210805Z",
     "start_time": "2025-09-13T13:20:02.380856Z"
    }
   },
   "source": [
    "from langchain_core.output_parsers import StrOutputParser\n",
    "from langchain.chat_models import init_chat_model\n",
    "\n",
    "# 使用 DeepSeek 模型\n",
    "model = init_chat_model(model=\"deepseek-chat\", model_provider=\"deepseek\")  \n",
    "\n",
    "# 直接使用模型 + 输出解析器搭建一个链\n",
    "basic_qa_chain = model | StrOutputParser()"
   ],
   "outputs": [],
   "execution_count": 2
  },
  {
   "cell_type": "code",
   "id": "6bd23eb7-45bb-45bd-b148-5650a2cf9bbb",
   "metadata": {
    "ExecuteTime": {
     "end_time": "2025-09-13T13:21:32.807351Z",
     "start_time": "2025-09-13T13:21:18.489882Z"
    }
   },
   "source": [
    "# 查看输出结果\n",
    "question = \"你好，请你介绍一下你自己。\"\n",
    "result = basic_qa_chain.invoke(question)"
   ],
   "outputs": [],
   "execution_count": 3
  },
  {
   "cell_type": "code",
   "id": "d1ca5c2f-cfa7-49d0-a3e0-54292642e8e6",
   "metadata": {
    "ExecuteTime": {
     "end_time": "2025-09-13T13:21:39.037283Z",
     "start_time": "2025-09-13T13:21:39.031926Z"
    }
   },
   "source": [
    "result"
   ],
   "outputs": [
    {
     "data": {
      "text/plain": [
       "'你好呀！我是 **DeepSeek-V3**，由深度求索公司（DeepSeek）打造的智能 AI 助手。我擅长回答各种问题，提供信息查询、写作辅助、编程帮助、学习辅导，甚至是生活小贴士！😊\\n\\n### 我的特点：\\n1. **知识丰富** 📚：我的知识截止到 **2024 年 7 月**，可以帮你解答各种领域的问题，包括科技、历史、文学、数学等。\\n2. **超长上下文支持** 🧠：支持 **128K** 上下文，可以处理超长文档，理解复杂对话。\\n3. **免费可用** 🎉：目前无需付费，你可以随时来找我聊天或查询信息！\\n4. **多文档处理** 📂：支持解析 **PDF、Word、Excel、PPT、TXT** 等文件，并提取文字内容进行分析。\\n5. **智能且友好** 🤖：我会尽量理解你的需求，并提供准确、有帮助的回答。\\n\\n无论是学习、工作，还是日常生活遇到难题，都可以来找我聊聊！😊 你今天有什么想问的吗？'"
      ]
     },
     "execution_count": 4,
     "metadata": {},
     "output_type": "execute_result"
    }
   ],
   "execution_count": 4
  },
  {
   "cell_type": "markdown",
   "id": "88ebbf93-f058-4155-9c04-58dbcb4d19fd",
   "metadata": {},
   "source": [
    "此时result就不再是包含各种模型调用信息的结果，而是纯粹的模型响应的字符串结果。而这里用到的StrOutputParser()实际上就是用于构成LangChain中一个链条的一个对象，其核心功能是用于处理模型输出结果。同时我们也能发现，只需要使用`Model | OutputParser`，即可高效搭建一个链。"
   ]
  },
  {
   "cell_type": "markdown",
   "id": "2bdeedf4-514e-43ff-b2f9-7ca8c288f01a",
   "metadata": {},
   "source": [
    "&emsp;&emsp;类似这种结果解析器还有很多，稍后我们会继续进行介绍。"
   ]
  },
  {
   "cell_type": "markdown",
   "id": "625952b0-4480-429f-a623-7f43ee0c3975",
   "metadata": {},
   "source": [
    "- 加入提示词模板创建链"
   ]
  },
  {
   "cell_type": "markdown",
   "id": "c660a0d7-bc24-4bf7-98dd-5e9f58dff6c5",
   "metadata": {},
   "source": [
    "&emsp;&emsp;接下来我们尝试为当前的执行流程添加一个提示词模板，我们可以借助ChatPromptTemplate非常便捷的将一个提示词模板，同样以链的形式加入到当前任务中："
   ]
  },
  {
   "cell_type": "code",
   "id": "6f4962a4-8a48-4640-9871-8685fd1d4dda",
   "metadata": {
    "ExecuteTime": {
     "end_time": "2025-09-13T13:25:53.185149Z",
     "start_time": "2025-09-13T13:25:49.453996Z"
    }
   },
   "source": [
    "from langchain.output_parsers.boolean import BooleanOutputParser\n",
    "from langchain.prompts import ChatPromptTemplate\n",
    "\n",
    "\n",
    "prompt_template = ChatPromptTemplate([\n",
    "    (\"system\", \"你是一个乐意助人的助手，请根据用户的问题给出回答\"),\n",
    "    (\"user\", \"这是用户的问题： {topic}， 请用 yes 或 no 来回答\")\n",
    "])\n",
    "\n",
    "# 直接使用模型 + 输出解析器\n",
    "bool_qa_chain = prompt_template | model | StrOutputParser()\n",
    "# 测试\n",
    "question = \"请问 1 + 1 是否 大于 2？\"\n",
    "result = bool_qa_chain.invoke(question)"
   ],
   "outputs": [],
   "execution_count": 5
  },
  {
   "cell_type": "code",
   "id": "a47ca0cd-3a71-44f1-8fe3-ca4994c1b849",
   "metadata": {
    "ExecuteTime": {
     "end_time": "2025-09-13T13:26:00.750638Z",
     "start_time": "2025-09-13T13:26:00.746126Z"
    }
   },
   "source": [
    "result"
   ],
   "outputs": [
    {
     "data": {
      "text/plain": [
       "'no'"
      ]
     },
     "execution_count": 6,
     "metadata": {},
     "output_type": "execute_result"
    }
   ],
   "execution_count": 6
  },
  {
   "cell_type": "markdown",
   "id": "fab5d005-82cb-403c-b370-eb40670ae1d3",
   "metadata": {},
   "source": [
    "&emsp;&emsp;一个最基本的`Chain`结构，是由`Model`和`OutputParser`两个组件构成的，其中`Model`是用来调用大模型的，`OutputParser`是用来解析大模型的响应结果的。所以一个最简单的`LLMChain`结构，其数据流向正如下图所示："
   ]
  },
  {
   "cell_type": "markdown",
   "id": "6700b7ce-c55f-477f-9bde-27ce60fac5c4",
   "metadata": {},
   "source": [
    "<div align=center><img src=\"https://snowball101.oss-cn-beijing.aliyuncs.com/img/202403191145938.png\" width=80%></div>"
   ]
  },
  {
   "cell_type": "markdown",
   "id": "2fb5dd50-dd2e-4d9d-9cf4-e38467323bf4",
   "metadata": {},
   "source": [
    "当我们调用指令跟随能力较强的大模型的时候，借助提示词模板即可实现结构化输出的结果。"
   ]
  },
  {
   "cell_type": "markdown",
   "id": "30709015-13bb-4256-b4fe-c68f1d694db8",
   "metadata": {},
   "source": [
    "- 借助提示词模板和结果解析器实现功能更加复杂的链"
   ]
  },
  {
   "cell_type": "markdown",
   "id": "c147bed0-1871-4f39-84ca-cc51e7582bfd",
   "metadata": {},
   "source": [
    "至此，我们就搭建了一个非常基础的链。在LangChain中，一个基础的链主要由三部分构成，分别是提示词模板、大模型和结果解析器（结构化解析器）："
   ]
  },
  {
   "cell_type": "raw",
   "id": "9aa2bd1a-db07-4a81-9bc2-5168c60d625f",
   "metadata": {},
   "source": [
    "用户输入\r\n",
    "  ↓\r\n",
    "PromptTemplate → ChatModel → OutputParser\r\n",
    "（提示词模板）   （大模型）    （结构化解析）\r\n",
    "  ↓\r\n",
    "构化结果\r\n"
   ]
  },
  {
   "cell_type": "markdown",
   "id": "cbd1321a-3a4e-4e01-8d60-f4b66823f350",
   "metadata": {},
   "source": [
    "而相比之下，结构化解析器功能最多，一些核心的结构化解析器功能如下："
   ]
  },
  {
   "cell_type": "markdown",
   "id": "486ab94f-76ab-457a-875b-a9622c87cee0",
   "metadata": {},
   "source": [
    "| 解析器名称 | 功能描述 | 类型 |\n",
    "|-----------|---------|------|\n",
    "| **BooleanOutputParser** | 将LLM输出解析为布尔值 | 基础类型解析 |\n",
    "| **DatetimeOutputParser** | 将LLM输出解析为日期时间 | 基础类型解析 |\n",
    "| **EnumOutputParser** | 解析输出为预定义枚举值之一 | 基础类型解析 |\n",
    "| **RegexParser** | 使用正则表达式解析LLM输出 | 模式匹配解析 |\n",
    "| **RegexDictParser** | 使用正则表达式将输出解析为字典 | 模式匹配解析 |\n",
    "| **StructuredOutputParser** | 将LLM输出解析为结构化格式 | 结构化解析 |\n",
    "| **YamlOutputParser** | 使用Pydantic模型解析YAML输出 | 结构化解析 |\n",
    "| **PandasDataFrameOutputParser** | 使用Pandas DataFrame格式解析输出 | 数据处理解析 |\n",
    "| **CombiningOutputParser** | 将多个输出解析器组合为一个 | 组合解析器 |\n",
    "| **OutputFixingParser** | 包装解析器并尝试修复解析错误 | 错误处理解析 |\n",
    "| **RetryOutputParser** | 包装解析器并尝试修复解析错误 | 错误处理解析 |\n",
    "| **RetryWithErrorOutputParser** | 包装解析器并尝试修复解析错误 | 错误处理解析 |\n",
    "| **ResponseSchema** | 结构化输出解析器的响应模式 | 辅助类 |\n",
    "\n"
   ]
  },
  {
   "cell_type": "markdown",
   "id": "f1c37894-b0d9-435c-8340-bc822de1fbef",
   "metadata": {},
   "source": [
    "一些功能实现如下，例如借助结构化解析器可以将yes or no转化为True or Fasle："
   ]
  },
  {
   "cell_type": "code",
   "id": "8d699aa9-2d59-4c8a-8f75-edd77ff7a38a",
   "metadata": {
    "ExecuteTime": {
     "end_time": "2025-09-13T13:28:24.967365Z",
     "start_time": "2025-09-13T13:28:21.100625Z"
    }
   },
   "source": [
    "prompt_template = ChatPromptTemplate([\n",
    "    (\"system\", \"你是一个乐意助人的助手，请根据用户的问题给出回答\"),\n",
    "    (\"user\", \"这是用户的问题： {topic}， 请用 yes 或 no 来回答\")\n",
    "])\n",
    "\n",
    "# 直接使用模型 + 输出解析器\n",
    "bool_qa_chain = prompt_template | model | BooleanOutputParser()\n",
    "# 测试\n",
    "question = \"请问 1 + 1 是否 大于 2？\"\n",
    "result = bool_qa_chain.invoke(question)"
   ],
   "outputs": [],
   "execution_count": 7
  },
  {
   "cell_type": "code",
   "id": "30258a71-bc7a-4c21-b956-1811dc87ee52",
   "metadata": {
    "ExecuteTime": {
     "end_time": "2025-09-13T13:28:25.962753Z",
     "start_time": "2025-09-13T13:28:25.959830Z"
    }
   },
   "source": [
    "result"
   ],
   "outputs": [
    {
     "data": {
      "text/plain": [
       "False"
      ]
     },
     "execution_count": 8,
     "metadata": {},
     "output_type": "execute_result"
    }
   ],
   "execution_count": 8
  },
  {
   "cell_type": "code",
   "id": "61e80bf5-7f82-4eda-a97c-2a5f04e08e30",
   "metadata": {
    "ExecuteTime": {
     "end_time": "2025-09-13T13:28:43.686448Z",
     "start_time": "2025-09-13T13:28:40.703541Z"
    }
   },
   "source": [
    "# 测试\n",
    "question = \"请问 4 + 1 是否 大于 2？\"\n",
    "result = bool_qa_chain.invoke(question)\n",
    "print(result)"
   ],
   "outputs": [
    {
     "name": "stdout",
     "output_type": "stream",
     "text": [
      "True\n"
     ]
    }
   ],
   "execution_count": 9
  },
  {
   "cell_type": "markdown",
   "id": "feac904b-50a7-45eb-9cd4-0f6920f3bea1",
   "metadata": {},
   "source": [
    "而StructuredOutputParser则可以在文档中提取指定的结构化信息："
   ]
  },
  {
   "cell_type": "code",
   "id": "c0beeebe-467f-4505-9774-9f6318303bc3",
   "metadata": {
    "ExecuteTime": {
     "end_time": "2025-09-13T13:32:23.423879Z",
     "start_time": "2025-09-13T13:32:23.420880Z"
    }
   },
   "source": [
    "from langchain_core.prompts import PromptTemplate"
   ],
   "outputs": [],
   "execution_count": 10
  },
  {
   "cell_type": "code",
   "id": "61105f2c-1b09-46a5-9c87-9a39fa4cdcd0",
   "metadata": {
    "ExecuteTime": {
     "end_time": "2025-09-13T13:32:30.099857Z",
     "start_time": "2025-09-13T13:32:25.147938Z"
    }
   },
   "source": [
    "from langchain.output_parsers import ResponseSchema, StructuredOutputParser\n",
    "\n",
    "schemas = [\n",
    "    ResponseSchema(name=\"name\", description=\"用户的姓名\"),\n",
    "    ResponseSchema(name=\"age\", description=\"用户的年龄\")\n",
    "]\n",
    "parser = StructuredOutputParser.from_response_schemas(schemas)\n",
    "\n",
    "prompt = PromptTemplate.from_template(\n",
    "    \"请根据以下内容提取用户信息，并返回 JSON 格式：\\n{input}\\n\\n{format_instructions}\"\n",
    ")\n",
    "\n",
    "chain = (\n",
    "    prompt.partial(format_instructions=parser.get_format_instructions())\n",
    "    | model\n",
    "    | parser\n",
    ")\n",
    "\n",
    "result = chain.invoke({\"input\": \"用户叫李雷，今年25岁，是一名工程师。\"})\n",
    "print(result)  "
   ],
   "outputs": [
    {
     "name": "stdout",
     "output_type": "stream",
     "text": [
      "{'name': '李雷', 'age': '25'}\n"
     ]
    }
   ],
   "execution_count": 11
  },
  {
   "cell_type": "markdown",
   "id": "116ca2dd-4444-49ff-ab71-e96e8f1bba13",
   "metadata": {},
   "source": [
    "这里我们在 PromptTemplate 中，你定义了两个占位符变量：\n",
    "\n",
    "- {input} → 将由用户传入的文本替换（如 \"用户叫李雷，今年25岁...\"）\n",
    "\n",
    "- {format_instructions} → 会通过 partial(...) 提前绑定结构化格式说明\n",
    "\n",
    "而格式化说明使用format_instructions进行标识其实也是一种约定俗称的方法，上述代码也就是相当于在创建Chain的时候，我们就输入了{format_instructions}对应的字符串，我们也可以通过如下代码进行打印查看："
   ]
  },
  {
   "cell_type": "code",
   "id": "638463a7-229e-4247-b7ab-e03ce1666c5e",
   "metadata": {
    "ExecuteTime": {
     "end_time": "2025-09-13T13:32:42.988529Z",
     "start_time": "2025-09-13T13:32:42.985684Z"
    }
   },
   "source": [
    "print(parser.get_format_instructions())"
   ],
   "outputs": [
    {
     "name": "stdout",
     "output_type": "stream",
     "text": [
      "The output should be a markdown code snippet formatted in the following schema, including the leading and trailing \"```json\" and \"```\":\n",
      "\n",
      "```json\n",
      "{\n",
      "\t\"name\": string  // 用户的姓名\n",
      "\t\"age\": string  // 用户的年龄\n",
      "}\n",
      "```\n"
     ]
    }
   ],
   "execution_count": 12
  },
  {
   "cell_type": "markdown",
   "id": "1dc1f0b1-ccae-48cd-b560-5e7b6577f02a",
   "metadata": {},
   "source": [
    "- 创建复合链"
   ]
  },
  {
   "cell_type": "code",
   "id": "c2e6b20d-dd3e-4cb9-bfe9-8df57578281e",
   "metadata": {
    "ExecuteTime": {
     "end_time": "2025-09-13T13:34:53.231622Z",
     "start_time": "2025-09-13T13:34:53.229293Z"
    }
   },
   "source": [
    "from langchain_core.prompts import PromptTemplate\n",
    "from langchain_core.runnables import RunnableSequence\n",
    "from langchain.output_parsers import ResponseSchema, StructuredOutputParser"
   ],
   "outputs": [],
   "execution_count": 13
  },
  {
   "cell_type": "code",
   "id": "468629ad-a052-4c4b-a061-ba1987198b18",
   "metadata": {
    "ExecuteTime": {
     "end_time": "2025-09-13T13:35:06.895786Z",
     "start_time": "2025-09-13T13:34:54.586376Z"
    }
   },
   "source": [
    "# 第一步：根据标题生成新闻正文\n",
    "news_gen_prompt = PromptTemplate.from_template(\n",
    "    \"请根据以下新闻标题撰写一段简短的新闻内容（100字以内）：\\n\\n标题：{title}\"\n",
    ")\n",
    "\n",
    "# 第一个子链：生成新闻内容\n",
    "news_chain = news_gen_prompt | model\n",
    "\n",
    "# 第二步：从正文中提取结构化字段\n",
    "schemas = [\n",
    "    ResponseSchema(name=\"time\", description=\"事件发生的时间\"),\n",
    "    ResponseSchema(name=\"location\", description=\"事件发生的地点\"),\n",
    "    ResponseSchema(name=\"event\", description=\"发生的具体事件\"),\n",
    "]\n",
    "parser = StructuredOutputParser.from_response_schemas(schemas)\n",
    "\n",
    "summary_prompt = PromptTemplate.from_template(\n",
    "    \"请从下面这段新闻内容中提取关键信息，并返回结构化JSON格式：\\n\\n{news}\\n\\n{format_instructions}\"\n",
    ")\n",
    "\n",
    "# 第二个子链：生成新闻摘要\n",
    "summary_chain = (\n",
    "    summary_prompt.partial(format_instructions=parser.get_format_instructions())\n",
    "    | model\n",
    "    | parser\n",
    ")\n",
    "\n",
    "# 组合成一个复合 Chain\n",
    "full_chain = news_chain | summary_chain\n",
    "\n",
    "# 调用复合链\n",
    "result = full_chain.invoke({\"title\": \"苹果公司在加州发布新款AI芯片\"})\n",
    "print(result)"
   ],
   "outputs": [
    {
     "name": "stdout",
     "output_type": "stream",
     "text": [
      "{'time': '未提及', 'location': '加州总部', 'event': '苹果公司发布新一代AI芯片，性能提升显著，专为高效处理人工智能任务设计，将应用于旗下多款设备，提升机器学习及用户体验，强化AI硬件领域竞争力'}\n"
     ]
    }
   ],
   "execution_count": 14
  },
  {
   "cell_type": "raw",
   "id": "5d447c68-0568-481b-bb7d-c03ff386d9d4",
   "metadata": {},
   "source": [
    "用户输入（title）  \r\n",
    "        │  \r\n",
    "        ▼  \r\n",
    "┌────────────────────────────┐  \r\n",
    "│  Chain 1: 生成新闻正文       │  \r\n",
    "│  Prompt: news_gen_prompt   │  \r\n",
    "│  Model: DeepSeek           │  \r\n",
    "└────────────────────────────┘  \r\n",
    "        │  \r\n",
    "        ▼  \r\n",
    "生成的新闻内容（news）  \r\n",
    "        │  \r\n",
    "        ▼  \r\n",
    "┌───────────────────────────────────────┐  \r\n",
    "│  Chain 2:        提取结构化字段（摘要）   │  \r\n",
    "│  Prompt: summary_pro   mpt            │  \r\n",
    "│  Model: DeepSeek                      │  \r\n",
    "│  OutputParser: StructuredOutputParser │  \r\n",
    "└───────────────────────────────────────┘  \r\n",
    "        │  \r\n",
    "        ▼  \r\n",
    "结化输出（如 JSON：时间、地点、事件）\r\n"
   ]
  },
  {
   "cell_type": "markdown",
   "id": "cfad2537-6342-441c-a6c2-cea20b6a17ef",
   "metadata": {},
   "source": [
    "- 借助LangChain适配器设置自定义可运行的节点"
   ]
  },
  {
   "cell_type": "code",
   "id": "2557f04d-9e81-405d-8b46-259027a91607",
   "metadata": {
    "ExecuteTime": {
     "end_time": "2025-09-13T13:36:05.370800Z",
     "start_time": "2025-09-13T13:36:05.365798Z"
    }
   },
   "source": [
    "from langchain_core.runnables import RunnableLambda\n",
    "\n",
    "# 一个简单的打印函数，调试用\n",
    "def debug_print(x):\n",
    "    print(\"中间结果（新闻正文）:\", x)\n",
    "    return x\n",
    "\n",
    "debug_node = RunnableLambda(debug_print)\n",
    "\n",
    "# 插入 debug 节点\n",
    "full_chain = news_chain | debug_node | summary_chain"
   ],
   "outputs": [],
   "execution_count": 15
  },
  {
   "cell_type": "code",
   "id": "594356ea-f6fc-4ae1-89d7-8b446619e5be",
   "metadata": {
    "ExecuteTime": {
     "end_time": "2025-09-13T13:36:21.102054Z",
     "start_time": "2025-09-13T13:36:09.474363Z"
    }
   },
   "source": [
    "# 调用复合链\n",
    "result = full_chain.invoke({\"title\": \"苹果公司在加州发布新款AI芯片\"})\n",
    "print(result)"
   ],
   "outputs": [
    {
     "name": "stdout",
     "output_type": "stream",
     "text": [
      "中间结果（新闻正文）: content='苹果公司在加州总部发布新一代AI芯片，该芯片显著提升机器学习效率，可应用于iPhone、Mac等设备，强化图像处理与语音识别功能。此举旨在增强苹果在人工智能领域的竞争力，推动消费电子智能化升级。' additional_kwargs={'refusal': None} response_metadata={'token_usage': {'completion_tokens': 47, 'prompt_tokens': 29, 'total_tokens': 76, 'completion_tokens_details': None, 'prompt_tokens_details': {'audio_tokens': None, 'cached_tokens': 0}, 'prompt_cache_hit_tokens': 0, 'prompt_cache_miss_tokens': 29}, 'model_name': 'deepseek-chat', 'system_fingerprint': 'fp_08f168e49b_prod0820_fp8_kvcache', 'id': 'af5f02ef-270b-4c7b-880e-119ece664222', 'service_tier': None, 'finish_reason': 'stop', 'logprobs': None} id='run--9613aaa0-d9c0-4cc1-b138-9bbc9f2b658b-0' usage_metadata={'input_tokens': 29, 'output_tokens': 47, 'total_tokens': 76, 'input_token_details': {'cache_read': 0}, 'output_token_details': {}}\n",
      "{'time': '未提及', 'location': '加州总部', 'event': '苹果公司发布新一代AI芯片，显著提升机器学习效率，可应用于iPhone、Mac等设备，强化图像处理与语音识别功能，旨在增强人工智能领域竞争力，推动消费电子智能化升级'}\n"
     ]
    }
   ],
   "execution_count": 16
  },
  {
   "cell_type": "markdown",
   "id": "b00ad074-d698-4436-b650-aaafa457bfc7",
   "metadata": {},
   "source": [
    "&emsp;&emsp;通过上述不同的尝试，我们就已经理解了在`langChain`中，如何使用`Model`、`OutputParser`、`ChatPromptTemplate`来构建一个简单的`Chain`。其中：\n",
    "\n",
    "1. `ChatPromptTemplate` 是用来构建提示模板的，将输入的问题转化为消息列表，可以设置系统指令，也可以添加一些变量；\n",
    "2. `Model` 是用来调用大模型的，可以指定使用不同的模型；\n",
    "3. `OutputParser` 是用来解析大模型的响应结果的，可以指定使用不同的解析器。"
   ]
  },
  {
   "cell_type": "markdown",
   "id": "2433f657-b3fe-466d-a24a-ae14c11fea2d",
   "metadata": {},
   "source": [
    "&emsp;&emsp;了解到这里，我们就可以基于`LangChain`来快速开发出一个智能问答机器人。"
   ]
  },
  {
   "cell_type": "markdown",
   "id": "063d0181-91ed-459d-ac24-ae3b0cb00ef2",
   "metadata": {
    "jp-MarkdownHeadingCollapsed": true
   },
   "source": [
    "【补充】LCEL关键概念介绍\n",
    "##### 什么是 LCEL？——LangChain Expression Language 详解\n",
    "\n",
    "在现代大语言模型（LLM）应用的构建中，LangChain 提供了一种全新的表达范式，被称为 **LCEL（LangChain Expression Language）**。它不仅简化了模型交互的编排过程，还增强了组合的灵活性和可维护性。本文将从概念、设计目的、核心特性和实际价值几个方面，系统性地介绍 LCEL 的本质。\n",
    "\n",
    "---\n",
    "\n",
    "##### 一、LCEL 的定义\n",
    "\n",
    "LCEL，全称为 **LangChain Expression Language**，是一种专为 LangChain 框架设计的表达语言。它通过一种链式组合的方式，允许开发者使用清晰、声明式的语法来构建语言模型驱动的应用流程。\n",
    "\n",
    "简单来说，LCEL 是一种“函数式管道风格”的组件组合机制，用于连接各种可执行单元（Runnable）。这些单元包括提示模板、语言模型、输出解析器、工具函数等。\n",
    "\n",
    "---\n",
    "\n",
    "##### 二、设计目的\n",
    "\n",
    "LCEL 的设计初衷在于：\n",
    "\n",
    "1. **模块化构建**：将模型调用流程拆解为独立、可重用的组件。\n",
    "2. **逻辑可视化**：通过语法符号（如管道符 `|`）呈现出明确的数据流路径。\n",
    "3. **统一运行接口**：所有 LCEL 组件都实现了 `.invoke()`、`.stream()`、`.batch()` 等标准方法，便于在同步、异步或批处理环境下调用。\n",
    "4. **脱离框架限制**：相比传统的 `Chain` 类和 `Agent` 架构，LCEL 更轻量、更具表达力，减少依赖的“黑盒”逻辑。\n",
    "\n",
    "---\n",
    "\n",
    "##### 三、核心组成\n",
    "\n",
    "###### 1. Runnable 接口\n",
    "\n",
    "LCEL 的一切基础单元都是 `Runnable` 对象，它是一种统一的可调用接口，支持如下形式：\n",
    "\n",
    "* `.invoke(input)`：同步调用\n",
    "* `.stream(input)`：流式生成\n",
    "* `.batch(inputs)`：批量执行\n",
    "\n",
    "###### 2. 管道运算符 `|`\n",
    "\n",
    "这是 LCEL 最具特色的语法符号。多个 `Runnable` 对象可以通过 `|` 串联起来，形成清晰的数据处理链。例如：\n",
    "\n",
    "```python\n",
    "prompt | model | parser\n",
    "```\n",
    "\n",
    "表示数据将依次传入提示模板、模型和输出解析器，最终输出结构化结果。\n",
    "\n",
    "###### 3. PromptTemplate 与 OutputParser\n",
    "\n",
    "LCEL 强调组件之间的职责明确，Prompt 只负责模板化输入，Parser 只负责格式化输出，Model 只负责推理。\n",
    "\n",
    "---\n",
    "\n",
    "##### 四、典型优势\n",
    "\n",
    "| 特性                    | 描述                       |             |\n",
    "| --------------------- | ------------------------ | ----------- |\n",
    "| 简洁语法                  | 使用 \\`                    | \\` 运算符提升可读性 |\n",
    "| 灵活组合                  | 可任意组合 Prompt、模型、工具、函数等组件 |             |\n",
    "| 明确边界                  | 每个步骤职责分明，方便调试与重用         |             |\n",
    "| 可嵌套扩展                 | 支持函数包装、自定义中间组件和流式拓展      |             |\n",
    "| 与 Gradio/FastAPI 集成良好 | 可用于构建 API、UI 聊天等多种场景     |             |\n",
    "\n",
    "---\n",
    "\n",
    "##### 五、总结\n",
    "\n",
    "LCEL 是 LangChain 在 2024 年末引入的一项重要特性，标志着从传统 Agent 架构向“声明式、组合式”开发范式的转变。它不仅让开发者能以更清晰的方式组织 LLM 工作流，也大大提高了系统的可维护性与可测试性。"
   ]
  }
 ],
 "metadata": {
  "kernelspec": {
   "display_name": "Python 3 (ipykernel)",
   "language": "python",
   "name": "python3"
  },
  "language_info": {
   "codemirror_mode": {
    "name": "ipython",
    "version": 3
   },
   "file_extension": ".py",
   "mimetype": "text/x-python",
   "name": "python",
   "nbconvert_exporter": "python",
   "pygments_lexer": "ipython3",
   "version": "3.12.4"
  }
 },
 "nbformat": 4,
 "nbformat_minor": 5
}
